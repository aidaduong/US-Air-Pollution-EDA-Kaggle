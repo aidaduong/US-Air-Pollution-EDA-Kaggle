{
 "cells": [
  {
   "cell_type": "markdown",
   "metadata": {},
   "source": [
    "# US Air Pollution Kaggle EDA"
   ]
  },
  {
   "cell_type": "markdown",
   "metadata": {},
   "source": [
    "This is an exploratory data analysis. In this notebook, I explore the US Pollution dataset from Kaggle."
   ]
  },
  {
   "cell_type": "markdown",
   "metadata": {},
   "source": [
    "## Table of Contents"
   ]
  },
  {
   "cell_type": "markdown",
   "metadata": {},
   "source": [
    "1. Importing required Python libraries\n",
    "2. Dataset description\n",
    "3. Importing the dataset\n",
    "4. Overview of the dataset\n",
    "5. Univariate analysis\n",
    "6. Multivariate analysis"
   ]
  },
  {
   "cell_type": "markdown",
   "metadata": {},
   "source": [
    "## 1. Importing required Python libraries"
   ]
  },
  {
   "cell_type": "markdown",
   "metadata": {},
   "source": [
    "In this exploratory data analysis, I will need NumPy, Pandas, and Matplotlib (for visualization). (May also need Seaborn later on for more in-depth visualization)"
   ]
  },
  {
   "cell_type": "code",
   "execution_count": 69,
   "metadata": {},
   "outputs": [],
   "source": [
    "import numpy as np # type: ignore\n",
    "import pandas as pd # type: ignore\n",
    "import matplotlib.pyplot as plt # type: ignore"
   ]
  },
  {
   "cell_type": "markdown",
   "metadata": {},
   "source": [
    "## 2. Dataset description"
   ]
  },
  {
   "cell_type": "markdown",
   "metadata": {},
   "source": [
    "For this project, I used the US pollution dataset from Kaggle. It can be found here:\n",
    "\n",
    "https://www.kaggle.com/datasets/sogun3/uspollution/data\n",
    "\n",
    "It contains data on the daily amount of four pollutants found in different areas throughout the United States, from 2000 to 2016. These pollutants are: Nitrogen Dioxide (NO2), Sulphur Dioxide (SO2), Carbon Monoxide (CO) and Ozone (O3). \n",
    "\n",
    "The dataset contains 1746661 number of data points and 28 number of attributes. \n",
    "\n",
    "The attribute information is as follows:\n",
    "\n",
    "1. State Code\n",
    "2. County Code\n",
    "3. Site Num\n",
    "4. Address\n",
    "5. State\n",
    "6. County\n",
    "7. City\n",
    "8. Date Local\n",
    "9. NO2 Units\n",
    "10. NO2 Mean\n",
    "11. NO2 1st Max Value\n",
    "12. NO2 1st Max Hour\n",
    "13. NO2 AQI (Air Quality Index)\n",
    "14. O3 Units\n",
    "15. O3 Mean\n",
    "16. O3 1st Max Value\n",
    "17. O3 1st Max Hour\n",
    "18. O3 AQI (Air Quality Index)\n",
    "19. SO2 Units\n",
    "20. SO2 Mean\n",
    "21. SO2 1st Max Value\n",
    "22. SO2 1st Max Hour\n",
    "23. SO2 AQI (Air Quality Index)\n",
    "24. CO Units\n",
    "25. CO Mean\n",
    "26. CO 1st Max Value\n",
    "27. CO 1st Max Hour\n",
    "28. CO AQI (Air Quality Index)\n",
    "\n",
    "I will be focusing primarily on the AQI of each of the 4 pollutants. As per AirNow.gov, air quality index (AQI) is used to report air quality and is separated into 6 main categories: Green (good), Yellow (moderate), Orange (unhealthy for sensitive groups), Red (unhealthy), Purple (very unhealthy), and Maroon (hazardous). "
   ]
  },
  {
   "cell_type": "markdown",
   "metadata": {},
   "source": [
    "## 3. Importing the dataset"
   ]
  },
  {
   "cell_type": "code",
   "execution_count": 70,
   "metadata": {},
   "outputs": [
    {
     "data": {
      "text/html": [
       "<div>\n",
       "<style scoped>\n",
       "    .dataframe tbody tr th:only-of-type {\n",
       "        vertical-align: middle;\n",
       "    }\n",
       "\n",
       "    .dataframe tbody tr th {\n",
       "        vertical-align: top;\n",
       "    }\n",
       "\n",
       "    .dataframe thead th {\n",
       "        text-align: right;\n",
       "    }\n",
       "</style>\n",
       "<table border=\"1\" class=\"dataframe\">\n",
       "  <thead>\n",
       "    <tr style=\"text-align: right;\">\n",
       "      <th></th>\n",
       "      <th>State Code</th>\n",
       "      <th>County Code</th>\n",
       "      <th>Site Num</th>\n",
       "      <th>Address</th>\n",
       "      <th>State</th>\n",
       "      <th>County</th>\n",
       "      <th>City</th>\n",
       "      <th>Date Local</th>\n",
       "      <th>NO2 Units</th>\n",
       "      <th>NO2 Mean</th>\n",
       "      <th>...</th>\n",
       "      <th>SO2 Units</th>\n",
       "      <th>SO2 Mean</th>\n",
       "      <th>SO2 1st Max Value</th>\n",
       "      <th>SO2 1st Max Hour</th>\n",
       "      <th>SO2 AQI</th>\n",
       "      <th>CO Units</th>\n",
       "      <th>CO Mean</th>\n",
       "      <th>CO 1st Max Value</th>\n",
       "      <th>CO 1st Max Hour</th>\n",
       "      <th>CO AQI</th>\n",
       "    </tr>\n",
       "  </thead>\n",
       "  <tbody>\n",
       "    <tr>\n",
       "      <th>0</th>\n",
       "      <td>4</td>\n",
       "      <td>13</td>\n",
       "      <td>3002</td>\n",
       "      <td>1645 E ROOSEVELT ST-CENTRAL PHOENIX STN</td>\n",
       "      <td>Arizona</td>\n",
       "      <td>Maricopa</td>\n",
       "      <td>Phoenix</td>\n",
       "      <td>2000-01-01</td>\n",
       "      <td>Parts per billion</td>\n",
       "      <td>19.041667</td>\n",
       "      <td>...</td>\n",
       "      <td>Parts per billion</td>\n",
       "      <td>3.000000</td>\n",
       "      <td>9.0</td>\n",
       "      <td>21</td>\n",
       "      <td>13.0</td>\n",
       "      <td>Parts per million</td>\n",
       "      <td>1.145833</td>\n",
       "      <td>4.2</td>\n",
       "      <td>21</td>\n",
       "      <td>NaN</td>\n",
       "    </tr>\n",
       "    <tr>\n",
       "      <th>1</th>\n",
       "      <td>4</td>\n",
       "      <td>13</td>\n",
       "      <td>3002</td>\n",
       "      <td>1645 E ROOSEVELT ST-CENTRAL PHOENIX STN</td>\n",
       "      <td>Arizona</td>\n",
       "      <td>Maricopa</td>\n",
       "      <td>Phoenix</td>\n",
       "      <td>2000-01-01</td>\n",
       "      <td>Parts per billion</td>\n",
       "      <td>19.041667</td>\n",
       "      <td>...</td>\n",
       "      <td>Parts per billion</td>\n",
       "      <td>3.000000</td>\n",
       "      <td>9.0</td>\n",
       "      <td>21</td>\n",
       "      <td>13.0</td>\n",
       "      <td>Parts per million</td>\n",
       "      <td>0.878947</td>\n",
       "      <td>2.2</td>\n",
       "      <td>23</td>\n",
       "      <td>25.0</td>\n",
       "    </tr>\n",
       "    <tr>\n",
       "      <th>2</th>\n",
       "      <td>4</td>\n",
       "      <td>13</td>\n",
       "      <td>3002</td>\n",
       "      <td>1645 E ROOSEVELT ST-CENTRAL PHOENIX STN</td>\n",
       "      <td>Arizona</td>\n",
       "      <td>Maricopa</td>\n",
       "      <td>Phoenix</td>\n",
       "      <td>2000-01-01</td>\n",
       "      <td>Parts per billion</td>\n",
       "      <td>19.041667</td>\n",
       "      <td>...</td>\n",
       "      <td>Parts per billion</td>\n",
       "      <td>2.975000</td>\n",
       "      <td>6.6</td>\n",
       "      <td>23</td>\n",
       "      <td>NaN</td>\n",
       "      <td>Parts per million</td>\n",
       "      <td>1.145833</td>\n",
       "      <td>4.2</td>\n",
       "      <td>21</td>\n",
       "      <td>NaN</td>\n",
       "    </tr>\n",
       "    <tr>\n",
       "      <th>3</th>\n",
       "      <td>4</td>\n",
       "      <td>13</td>\n",
       "      <td>3002</td>\n",
       "      <td>1645 E ROOSEVELT ST-CENTRAL PHOENIX STN</td>\n",
       "      <td>Arizona</td>\n",
       "      <td>Maricopa</td>\n",
       "      <td>Phoenix</td>\n",
       "      <td>2000-01-01</td>\n",
       "      <td>Parts per billion</td>\n",
       "      <td>19.041667</td>\n",
       "      <td>...</td>\n",
       "      <td>Parts per billion</td>\n",
       "      <td>2.975000</td>\n",
       "      <td>6.6</td>\n",
       "      <td>23</td>\n",
       "      <td>NaN</td>\n",
       "      <td>Parts per million</td>\n",
       "      <td>0.878947</td>\n",
       "      <td>2.2</td>\n",
       "      <td>23</td>\n",
       "      <td>25.0</td>\n",
       "    </tr>\n",
       "    <tr>\n",
       "      <th>4</th>\n",
       "      <td>4</td>\n",
       "      <td>13</td>\n",
       "      <td>3002</td>\n",
       "      <td>1645 E ROOSEVELT ST-CENTRAL PHOENIX STN</td>\n",
       "      <td>Arizona</td>\n",
       "      <td>Maricopa</td>\n",
       "      <td>Phoenix</td>\n",
       "      <td>2000-01-02</td>\n",
       "      <td>Parts per billion</td>\n",
       "      <td>22.958333</td>\n",
       "      <td>...</td>\n",
       "      <td>Parts per billion</td>\n",
       "      <td>1.958333</td>\n",
       "      <td>3.0</td>\n",
       "      <td>22</td>\n",
       "      <td>4.0</td>\n",
       "      <td>Parts per million</td>\n",
       "      <td>0.850000</td>\n",
       "      <td>1.6</td>\n",
       "      <td>23</td>\n",
       "      <td>NaN</td>\n",
       "    </tr>\n",
       "  </tbody>\n",
       "</table>\n",
       "<p>5 rows × 28 columns</p>\n",
       "</div>"
      ],
      "text/plain": [
       "   State Code  County Code  Site Num                                  Address  \\\n",
       "0           4           13      3002  1645 E ROOSEVELT ST-CENTRAL PHOENIX STN   \n",
       "1           4           13      3002  1645 E ROOSEVELT ST-CENTRAL PHOENIX STN   \n",
       "2           4           13      3002  1645 E ROOSEVELT ST-CENTRAL PHOENIX STN   \n",
       "3           4           13      3002  1645 E ROOSEVELT ST-CENTRAL PHOENIX STN   \n",
       "4           4           13      3002  1645 E ROOSEVELT ST-CENTRAL PHOENIX STN   \n",
       "\n",
       "     State    County     City  Date Local          NO2 Units   NO2 Mean  ...  \\\n",
       "0  Arizona  Maricopa  Phoenix  2000-01-01  Parts per billion  19.041667  ...   \n",
       "1  Arizona  Maricopa  Phoenix  2000-01-01  Parts per billion  19.041667  ...   \n",
       "2  Arizona  Maricopa  Phoenix  2000-01-01  Parts per billion  19.041667  ...   \n",
       "3  Arizona  Maricopa  Phoenix  2000-01-01  Parts per billion  19.041667  ...   \n",
       "4  Arizona  Maricopa  Phoenix  2000-01-02  Parts per billion  22.958333  ...   \n",
       "\n",
       "           SO2 Units  SO2 Mean  SO2 1st Max Value SO2 1st Max Hour  SO2 AQI  \\\n",
       "0  Parts per billion  3.000000                9.0               21     13.0   \n",
       "1  Parts per billion  3.000000                9.0               21     13.0   \n",
       "2  Parts per billion  2.975000                6.6               23      NaN   \n",
       "3  Parts per billion  2.975000                6.6               23      NaN   \n",
       "4  Parts per billion  1.958333                3.0               22      4.0   \n",
       "\n",
       "            CO Units   CO Mean  CO 1st Max Value CO 1st Max Hour  CO AQI  \n",
       "0  Parts per million  1.145833               4.2              21     NaN  \n",
       "1  Parts per million  0.878947               2.2              23    25.0  \n",
       "2  Parts per million  1.145833               4.2              21     NaN  \n",
       "3  Parts per million  0.878947               2.2              23    25.0  \n",
       "4  Parts per million  0.850000               1.6              23     NaN  \n",
       "\n",
       "[5 rows x 28 columns]"
      ]
     },
     "execution_count": 70,
     "metadata": {},
     "output_type": "execute_result"
    }
   ],
   "source": [
    "pollution = pd.read_csv('pollution_us_2000_2016.csv', index_col = 0)\n",
    "pollution.head()"
   ]
  },
  {
   "cell_type": "markdown",
   "metadata": {},
   "source": [
    "## 4. Overview of the dataset"
   ]
  },
  {
   "cell_type": "markdown",
   "metadata": {},
   "source": [
    "In this section I will learn about the dimensions, structure, and columns of the dataset.  "
   ]
  },
  {
   "cell_type": "markdown",
   "metadata": {},
   "source": [
    "### df.shape\n",
    "Using the __df.shape__ function, I can check the dimensions of the dataset."
   ]
  },
  {
   "cell_type": "code",
   "execution_count": 71,
   "metadata": {},
   "outputs": [
    {
     "data": {
      "text/plain": [
       "(1746661, 28)"
      ]
     },
     "execution_count": 71,
     "metadata": {},
     "output_type": "execute_result"
    }
   ],
   "source": [
    "pollution.shape"
   ]
  },
  {
   "cell_type": "markdown",
   "metadata": {},
   "source": [
    "__Interpretation__"
   ]
  },
  {
   "cell_type": "markdown",
   "metadata": {},
   "source": [
    "The dataset has 1746661 rows and 12 columns."
   ]
  },
  {
   "cell_type": "markdown",
   "metadata": {},
   "source": [
    "### df.columns\n",
    "I can use __df.columns__ to view all of the column names.   "
   ]
  },
  {
   "cell_type": "code",
   "execution_count": 72,
   "metadata": {},
   "outputs": [
    {
     "data": {
      "text/plain": [
       "Index(['State Code', 'County Code', 'Site Num', 'Address', 'State', 'County',\n",
       "       'City', 'Date Local', 'NO2 Units', 'NO2 Mean', 'NO2 1st Max Value',\n",
       "       'NO2 1st Max Hour', 'NO2 AQI', 'O3 Units', 'O3 Mean',\n",
       "       'O3 1st Max Value', 'O3 1st Max Hour', 'O3 AQI', 'SO2 Units',\n",
       "       'SO2 Mean', 'SO2 1st Max Value', 'SO2 1st Max Hour', 'SO2 AQI',\n",
       "       'CO Units', 'CO Mean', 'CO 1st Max Value', 'CO 1st Max Hour', 'CO AQI'],\n",
       "      dtype='object')"
      ]
     },
     "execution_count": 72,
     "metadata": {},
     "output_type": "execute_result"
    }
   ],
   "source": [
    "pollution.columns"
   ]
  },
  {
   "cell_type": "markdown",
   "metadata": {},
   "source": [
    "### dropping unnecessary columns"
   ]
  },
  {
   "cell_type": "markdown",
   "metadata": {},
   "source": [
    "For this project, I am choosing to focus mainly on the AQI. Therefore, I will need to drop the columns regarding units, mean, 1st max value, and 1st max value, keeping only the AQI columns. Furthermore, I will also drop the columns `State Code`, `County Code`, `Site Num`, and `Address` because they seem to be irrelevant to my analysis. To do this, I can use the __df.drop()__ method."
   ]
  },
  {
   "cell_type": "code",
   "execution_count": 73,
   "metadata": {},
   "outputs": [],
   "source": [
    "df = pollution.drop(columns=['NO2 Units', 'NO2 Mean', 'NO2 1st Max Value', 'NO2 1st Max Hour','O3 Units', 'O3 Mean', 'O3 1st Max Value', 'O3 1st Max Hour', 'SO2 Units', 'SO2 Mean', 'SO2 1st Max Value', 'SO2 1st Max Hour','CO Units', 'CO Mean', 'CO 1st Max Value', 'CO 1st Max Hour', 'State Code', 'County Code', 'Site Num', 'Address'])"
   ]
  },
  {
   "cell_type": "markdown",
   "metadata": {},
   "source": [
    "__Interpretation__"
   ]
  },
  {
   "cell_type": "markdown",
   "metadata": {},
   "source": [
    "The dataframe df now only has columns on AQI for each of the pollutants and other relevant columns such as `State`, `County`, `City`, and `Date Local`."
   ]
  },
  {
   "cell_type": "markdown",
   "metadata": {},
   "source": [
    "### df.head() and df.tail()\n",
    "Using __df.head()__ and __df.tail()__, I can preview the first 5 and bottom 5 rows of the dataset. As seen here, there are only 12 columns left after dropping unecessary columns."
   ]
  },
  {
   "cell_type": "code",
   "execution_count": 74,
   "metadata": {},
   "outputs": [
    {
     "data": {
      "text/html": [
       "<div>\n",
       "<style scoped>\n",
       "    .dataframe tbody tr th:only-of-type {\n",
       "        vertical-align: middle;\n",
       "    }\n",
       "\n",
       "    .dataframe tbody tr th {\n",
       "        vertical-align: top;\n",
       "    }\n",
       "\n",
       "    .dataframe thead th {\n",
       "        text-align: right;\n",
       "    }\n",
       "</style>\n",
       "<table border=\"1\" class=\"dataframe\">\n",
       "  <thead>\n",
       "    <tr style=\"text-align: right;\">\n",
       "      <th></th>\n",
       "      <th>State</th>\n",
       "      <th>County</th>\n",
       "      <th>City</th>\n",
       "      <th>Date Local</th>\n",
       "      <th>NO2 AQI</th>\n",
       "      <th>O3 AQI</th>\n",
       "      <th>SO2 AQI</th>\n",
       "      <th>CO AQI</th>\n",
       "    </tr>\n",
       "  </thead>\n",
       "  <tbody>\n",
       "    <tr>\n",
       "      <th>0</th>\n",
       "      <td>Arizona</td>\n",
       "      <td>Maricopa</td>\n",
       "      <td>Phoenix</td>\n",
       "      <td>2000-01-01</td>\n",
       "      <td>46</td>\n",
       "      <td>34</td>\n",
       "      <td>13.0</td>\n",
       "      <td>NaN</td>\n",
       "    </tr>\n",
       "    <tr>\n",
       "      <th>1</th>\n",
       "      <td>Arizona</td>\n",
       "      <td>Maricopa</td>\n",
       "      <td>Phoenix</td>\n",
       "      <td>2000-01-01</td>\n",
       "      <td>46</td>\n",
       "      <td>34</td>\n",
       "      <td>13.0</td>\n",
       "      <td>25.0</td>\n",
       "    </tr>\n",
       "    <tr>\n",
       "      <th>2</th>\n",
       "      <td>Arizona</td>\n",
       "      <td>Maricopa</td>\n",
       "      <td>Phoenix</td>\n",
       "      <td>2000-01-01</td>\n",
       "      <td>46</td>\n",
       "      <td>34</td>\n",
       "      <td>NaN</td>\n",
       "      <td>NaN</td>\n",
       "    </tr>\n",
       "    <tr>\n",
       "      <th>3</th>\n",
       "      <td>Arizona</td>\n",
       "      <td>Maricopa</td>\n",
       "      <td>Phoenix</td>\n",
       "      <td>2000-01-01</td>\n",
       "      <td>46</td>\n",
       "      <td>34</td>\n",
       "      <td>NaN</td>\n",
       "      <td>25.0</td>\n",
       "    </tr>\n",
       "    <tr>\n",
       "      <th>4</th>\n",
       "      <td>Arizona</td>\n",
       "      <td>Maricopa</td>\n",
       "      <td>Phoenix</td>\n",
       "      <td>2000-01-02</td>\n",
       "      <td>34</td>\n",
       "      <td>27</td>\n",
       "      <td>4.0</td>\n",
       "      <td>NaN</td>\n",
       "    </tr>\n",
       "  </tbody>\n",
       "</table>\n",
       "</div>"
      ],
      "text/plain": [
       "     State    County     City  Date Local  NO2 AQI  O3 AQI  SO2 AQI  CO AQI\n",
       "0  Arizona  Maricopa  Phoenix  2000-01-01       46      34     13.0     NaN\n",
       "1  Arizona  Maricopa  Phoenix  2000-01-01       46      34     13.0    25.0\n",
       "2  Arizona  Maricopa  Phoenix  2000-01-01       46      34      NaN     NaN\n",
       "3  Arizona  Maricopa  Phoenix  2000-01-01       46      34      NaN    25.0\n",
       "4  Arizona  Maricopa  Phoenix  2000-01-02       34      27      4.0     NaN"
      ]
     },
     "execution_count": 74,
     "metadata": {},
     "output_type": "execute_result"
    }
   ],
   "source": [
    "df.head()"
   ]
  },
  {
   "cell_type": "code",
   "execution_count": 75,
   "metadata": {},
   "outputs": [
    {
     "data": {
      "text/html": [
       "<div>\n",
       "<style scoped>\n",
       "    .dataframe tbody tr th:only-of-type {\n",
       "        vertical-align: middle;\n",
       "    }\n",
       "\n",
       "    .dataframe tbody tr th {\n",
       "        vertical-align: top;\n",
       "    }\n",
       "\n",
       "    .dataframe thead th {\n",
       "        text-align: right;\n",
       "    }\n",
       "</style>\n",
       "<table border=\"1\" class=\"dataframe\">\n",
       "  <thead>\n",
       "    <tr style=\"text-align: right;\">\n",
       "      <th></th>\n",
       "      <th>State</th>\n",
       "      <th>County</th>\n",
       "      <th>City</th>\n",
       "      <th>Date Local</th>\n",
       "      <th>NO2 AQI</th>\n",
       "      <th>O3 AQI</th>\n",
       "      <th>SO2 AQI</th>\n",
       "      <th>CO AQI</th>\n",
       "    </tr>\n",
       "  </thead>\n",
       "  <tbody>\n",
       "    <tr>\n",
       "      <th>24599</th>\n",
       "      <td>Wyoming</td>\n",
       "      <td>Laramie</td>\n",
       "      <td>Not in a city</td>\n",
       "      <td>2016-03-30</td>\n",
       "      <td>1</td>\n",
       "      <td>44</td>\n",
       "      <td>NaN</td>\n",
       "      <td>1.0</td>\n",
       "    </tr>\n",
       "    <tr>\n",
       "      <th>24600</th>\n",
       "      <td>Wyoming</td>\n",
       "      <td>Laramie</td>\n",
       "      <td>Not in a city</td>\n",
       "      <td>2016-03-31</td>\n",
       "      <td>1</td>\n",
       "      <td>44</td>\n",
       "      <td>0.0</td>\n",
       "      <td>NaN</td>\n",
       "    </tr>\n",
       "    <tr>\n",
       "      <th>24601</th>\n",
       "      <td>Wyoming</td>\n",
       "      <td>Laramie</td>\n",
       "      <td>Not in a city</td>\n",
       "      <td>2016-03-31</td>\n",
       "      <td>1</td>\n",
       "      <td>44</td>\n",
       "      <td>0.0</td>\n",
       "      <td>1.0</td>\n",
       "    </tr>\n",
       "    <tr>\n",
       "      <th>24602</th>\n",
       "      <td>Wyoming</td>\n",
       "      <td>Laramie</td>\n",
       "      <td>Not in a city</td>\n",
       "      <td>2016-03-31</td>\n",
       "      <td>1</td>\n",
       "      <td>44</td>\n",
       "      <td>NaN</td>\n",
       "      <td>NaN</td>\n",
       "    </tr>\n",
       "    <tr>\n",
       "      <th>24603</th>\n",
       "      <td>Wyoming</td>\n",
       "      <td>Laramie</td>\n",
       "      <td>Not in a city</td>\n",
       "      <td>2016-03-31</td>\n",
       "      <td>1</td>\n",
       "      <td>44</td>\n",
       "      <td>NaN</td>\n",
       "      <td>1.0</td>\n",
       "    </tr>\n",
       "  </tbody>\n",
       "</table>\n",
       "</div>"
      ],
      "text/plain": [
       "         State   County           City  Date Local  NO2 AQI  O3 AQI  SO2 AQI  \\\n",
       "24599  Wyoming  Laramie  Not in a city  2016-03-30        1      44      NaN   \n",
       "24600  Wyoming  Laramie  Not in a city  2016-03-31        1      44      0.0   \n",
       "24601  Wyoming  Laramie  Not in a city  2016-03-31        1      44      0.0   \n",
       "24602  Wyoming  Laramie  Not in a city  2016-03-31        1      44      NaN   \n",
       "24603  Wyoming  Laramie  Not in a city  2016-03-31        1      44      NaN   \n",
       "\n",
       "       CO AQI  \n",
       "24599     1.0  \n",
       "24600     NaN  \n",
       "24601     1.0  \n",
       "24602     NaN  \n",
       "24603     1.0  "
      ]
     },
     "execution_count": 75,
     "metadata": {},
     "output_type": "execute_result"
    }
   ],
   "source": [
    "df.tail()"
   ]
  },
  {
   "cell_type": "markdown",
   "metadata": {},
   "source": [
    "### df.info()"
   ]
  },
  {
   "cell_type": "markdown",
   "metadata": {},
   "source": [
    "I can view basic information about the dataset using __df.info()__, like all of the column names, indexes, and datatypes of each column."
   ]
  },
  {
   "cell_type": "code",
   "execution_count": 76,
   "metadata": {},
   "outputs": [
    {
     "name": "stdout",
     "output_type": "stream",
     "text": [
      "<class 'pandas.core.frame.DataFrame'>\n",
      "Index: 1746661 entries, 0 to 24603\n",
      "Data columns (total 8 columns):\n",
      " #   Column      Dtype  \n",
      "---  ------      -----  \n",
      " 0   State       object \n",
      " 1   County      object \n",
      " 2   City        object \n",
      " 3   Date Local  object \n",
      " 4   NO2 AQI     int64  \n",
      " 5   O3 AQI      int64  \n",
      " 6   SO2 AQI     float64\n",
      " 7   CO AQI      float64\n",
      "dtypes: float64(2), int64(2), object(4)\n",
      "memory usage: 119.9+ MB\n"
     ]
    }
   ],
   "source": [
    "df.info()"
   ]
  },
  {
   "cell_type": "markdown",
   "metadata": {},
   "source": [
    "__Interpretation__"
   ]
  },
  {
   "cell_type": "markdown",
   "metadata": {},
   "source": [
    "The data type of the 'Date Local' column is object, or string. I want to convert it to a datetime type using the Pandas __to_datetime()__ function."
   ]
  },
  {
   "cell_type": "code",
   "execution_count": 77,
   "metadata": {},
   "outputs": [],
   "source": [
    "df['Date Local'] = pd.to_datetime(df['Date Local'], format = '%Y-%m-%d')"
   ]
  },
  {
   "cell_type": "markdown",
   "metadata": {},
   "source": [
    "Now checking the datatype of the `Date Local` column again, I should see that it is datetime64. "
   ]
  },
  {
   "cell_type": "code",
   "execution_count": 78,
   "metadata": {},
   "outputs": [
    {
     "data": {
      "text/plain": [
       "State                 object\n",
       "County                object\n",
       "City                  object\n",
       "Date Local    datetime64[ns]\n",
       "NO2 AQI                int64\n",
       "O3 AQI                 int64\n",
       "SO2 AQI              float64\n",
       "CO AQI               float64\n",
       "dtype: object"
      ]
     },
     "execution_count": 78,
     "metadata": {},
     "output_type": "execute_result"
    }
   ],
   "source": [
    "df.dtypes"
   ]
  },
  {
   "cell_type": "markdown",
   "metadata": {},
   "source": [
    "### missing values"
   ]
  },
  {
   "cell_type": "markdown",
   "metadata": {},
   "source": [
    "To check for how many null values there are in the whole dataset, I can use __df.isnull().sum()__."
   ]
  },
  {
   "cell_type": "code",
   "execution_count": 79,
   "metadata": {},
   "outputs": [
    {
     "data": {
      "text/plain": [
       "State              0\n",
       "County             0\n",
       "City               0\n",
       "Date Local         0\n",
       "NO2 AQI            0\n",
       "O3 AQI             0\n",
       "SO2 AQI       872907\n",
       "CO AQI        873323\n",
       "dtype: int64"
      ]
     },
     "execution_count": 79,
     "metadata": {},
     "output_type": "execute_result"
    }
   ],
   "source": [
    "df.isnull().sum()"
   ]
  },
  {
   "cell_type": "markdown",
   "metadata": {},
   "source": [
    "__Interpretation__"
   ]
  },
  {
   "cell_type": "markdown",
   "metadata": {},
   "source": [
    "As seen here, most of the rows have 0 null values. However, the columns `SO2 AQI` and `CO AQI` have a large number of null values- nearly half of each column is null. I will drop the rows with null values using the __dropna()__ method."
   ]
  },
  {
   "cell_type": "code",
   "execution_count": 92,
   "metadata": {},
   "outputs": [
    {
     "data": {
      "text/plain": [
       "(436876, 8)"
      ]
     },
     "execution_count": 92,
     "metadata": {},
     "output_type": "execute_result"
    }
   ],
   "source": [
    "df = df.dropna(axis=0)\n",
    "df.shape"
   ]
  },
  {
   "cell_type": "markdown",
   "metadata": {},
   "source": [
    "Now I am only left with 436876 rows, compared to the 1746661 ones originally."
   ]
  },
  {
   "cell_type": "markdown",
   "metadata": {},
   "source": [
    "### df.describe()"
   ]
  },
  {
   "cell_type": "markdown",
   "metadata": {},
   "source": [
    "I will now use the __df.describe()__ method, which will reveal important statistical information about the data including the count, mean, standard deviation, min, median, and max."
   ]
  },
  {
   "cell_type": "code",
   "execution_count": 81,
   "metadata": {},
   "outputs": [
    {
     "data": {
      "text/html": [
       "<div>\n",
       "<style scoped>\n",
       "    .dataframe tbody tr th:only-of-type {\n",
       "        vertical-align: middle;\n",
       "    }\n",
       "\n",
       "    .dataframe tbody tr th {\n",
       "        vertical-align: top;\n",
       "    }\n",
       "\n",
       "    .dataframe thead th {\n",
       "        text-align: right;\n",
       "    }\n",
       "</style>\n",
       "<table border=\"1\" class=\"dataframe\">\n",
       "  <thead>\n",
       "    <tr style=\"text-align: right;\">\n",
       "      <th></th>\n",
       "      <th>Date Local</th>\n",
       "      <th>NO2 AQI</th>\n",
       "      <th>O3 AQI</th>\n",
       "      <th>SO2 AQI</th>\n",
       "      <th>CO AQI</th>\n",
       "    </tr>\n",
       "  </thead>\n",
       "  <tbody>\n",
       "    <tr>\n",
       "      <th>count</th>\n",
       "      <td>436876</td>\n",
       "      <td>436876.000000</td>\n",
       "      <td>436876.000000</td>\n",
       "      <td>436876.000000</td>\n",
       "      <td>436876.000000</td>\n",
       "    </tr>\n",
       "    <tr>\n",
       "      <th>mean</th>\n",
       "      <td>2008-10-14 01:46:43.720964608</td>\n",
       "      <td>23.899230</td>\n",
       "      <td>36.049204</td>\n",
       "      <td>7.117386</td>\n",
       "      <td>5.996258</td>\n",
       "    </tr>\n",
       "    <tr>\n",
       "      <th>min</th>\n",
       "      <td>2000-01-01 00:00:00</td>\n",
       "      <td>0.000000</td>\n",
       "      <td>0.000000</td>\n",
       "      <td>0.000000</td>\n",
       "      <td>0.000000</td>\n",
       "    </tr>\n",
       "    <tr>\n",
       "      <th>25%</th>\n",
       "      <td>2004-11-23 00:00:00</td>\n",
       "      <td>12.000000</td>\n",
       "      <td>25.000000</td>\n",
       "      <td>1.000000</td>\n",
       "      <td>2.000000</td>\n",
       "    </tr>\n",
       "    <tr>\n",
       "      <th>50%</th>\n",
       "      <td>2009-02-04 00:00:00</td>\n",
       "      <td>23.000000</td>\n",
       "      <td>33.000000</td>\n",
       "      <td>3.000000</td>\n",
       "      <td>5.000000</td>\n",
       "    </tr>\n",
       "    <tr>\n",
       "      <th>75%</th>\n",
       "      <td>2012-11-06 00:00:00</td>\n",
       "      <td>33.000000</td>\n",
       "      <td>42.000000</td>\n",
       "      <td>9.000000</td>\n",
       "      <td>8.000000</td>\n",
       "    </tr>\n",
       "    <tr>\n",
       "      <th>max</th>\n",
       "      <td>2016-05-31 00:00:00</td>\n",
       "      <td>132.000000</td>\n",
       "      <td>218.000000</td>\n",
       "      <td>200.000000</td>\n",
       "      <td>201.000000</td>\n",
       "    </tr>\n",
       "    <tr>\n",
       "      <th>std</th>\n",
       "      <td>NaN</td>\n",
       "      <td>15.163655</td>\n",
       "      <td>19.779243</td>\n",
       "      <td>11.939231</td>\n",
       "      <td>5.851589</td>\n",
       "    </tr>\n",
       "  </tbody>\n",
       "</table>\n",
       "</div>"
      ],
      "text/plain": [
       "                          Date Local        NO2 AQI         O3 AQI  \\\n",
       "count                         436876  436876.000000  436876.000000   \n",
       "mean   2008-10-14 01:46:43.720964608      23.899230      36.049204   \n",
       "min              2000-01-01 00:00:00       0.000000       0.000000   \n",
       "25%              2004-11-23 00:00:00      12.000000      25.000000   \n",
       "50%              2009-02-04 00:00:00      23.000000      33.000000   \n",
       "75%              2012-11-06 00:00:00      33.000000      42.000000   \n",
       "max              2016-05-31 00:00:00     132.000000     218.000000   \n",
       "std                              NaN      15.163655      19.779243   \n",
       "\n",
       "             SO2 AQI         CO AQI  \n",
       "count  436876.000000  436876.000000  \n",
       "mean        7.117386       5.996258  \n",
       "min         0.000000       0.000000  \n",
       "25%         1.000000       2.000000  \n",
       "50%         3.000000       5.000000  \n",
       "75%         9.000000       8.000000  \n",
       "max       200.000000     201.000000  \n",
       "std        11.939231       5.851589  "
      ]
     },
     "execution_count": 81,
     "metadata": {},
     "output_type": "execute_result"
    }
   ],
   "source": [
    "df.describe()"
   ]
  },
  {
   "cell_type": "markdown",
   "metadata": {},
   "source": [
    "And to view information about the columns with datatype as object, I can use the method __df.describe(include = ['object'])__. It will reveal information about the count, number of unique values, and value with the highest frequency."
   ]
  },
  {
   "cell_type": "code",
   "execution_count": 82,
   "metadata": {},
   "outputs": [
    {
     "data": {
      "text/html": [
       "<div>\n",
       "<style scoped>\n",
       "    .dataframe tbody tr th:only-of-type {\n",
       "        vertical-align: middle;\n",
       "    }\n",
       "\n",
       "    .dataframe tbody tr th {\n",
       "        vertical-align: top;\n",
       "    }\n",
       "\n",
       "    .dataframe thead th {\n",
       "        text-align: right;\n",
       "    }\n",
       "</style>\n",
       "<table border=\"1\" class=\"dataframe\">\n",
       "  <thead>\n",
       "    <tr style=\"text-align: right;\">\n",
       "      <th></th>\n",
       "      <th>State</th>\n",
       "      <th>County</th>\n",
       "      <th>City</th>\n",
       "    </tr>\n",
       "  </thead>\n",
       "  <tbody>\n",
       "    <tr>\n",
       "      <th>count</th>\n",
       "      <td>436876</td>\n",
       "      <td>436876</td>\n",
       "      <td>436876</td>\n",
       "    </tr>\n",
       "    <tr>\n",
       "      <th>unique</th>\n",
       "      <td>47</td>\n",
       "      <td>133</td>\n",
       "      <td>144</td>\n",
       "    </tr>\n",
       "    <tr>\n",
       "      <th>top</th>\n",
       "      <td>California</td>\n",
       "      <td>Los Angeles</td>\n",
       "      <td>Not in a city</td>\n",
       "    </tr>\n",
       "    <tr>\n",
       "      <th>freq</th>\n",
       "      <td>144109</td>\n",
       "      <td>23405</td>\n",
       "      <td>34619</td>\n",
       "    </tr>\n",
       "  </tbody>\n",
       "</table>\n",
       "</div>"
      ],
      "text/plain": [
       "             State       County           City\n",
       "count       436876       436876         436876\n",
       "unique          47          133            144\n",
       "top     California  Los Angeles  Not in a city\n",
       "freq        144109        23405          34619"
      ]
     },
     "execution_count": 82,
     "metadata": {},
     "output_type": "execute_result"
    }
   ],
   "source": [
    "df.describe(include = ['object'])"
   ]
  },
  {
   "cell_type": "markdown",
   "metadata": {},
   "source": [
    "__Interpretation__"
   ]
  },
  {
   "cell_type": "markdown",
   "metadata": {},
   "source": [
    "I can see that the data has 47 different states, 133 counties, 144 cities, and 204 addresses. This dataset has the most data from California, especially the Los Angeles county."
   ]
  },
  {
   "cell_type": "markdown",
   "metadata": {},
   "source": [
    "## 5. Univariate analysis"
   ]
  },
  {
   "cell_type": "markdown",
   "metadata": {},
   "source": [
    "I will plot the `NO2 AQI`, `O3 AQI`, `SO2 AQI`, and `CO AQI` columns as box plots in order to look at the distribution of the dataset. It will allow me to visualize the median, max, min, and interquartile range of each of the columns."
   ]
  },
  {
   "cell_type": "code",
   "execution_count": 226,
   "metadata": {},
   "outputs": [
    {
     "data": {
      "image/png": "[encoded data removed]",
      "text/plain": [
       "<Figure size 700x800 with 1 Axes>"
      ]
     },
     "metadata": {},
     "output_type": "display_data"
    }
   ],
   "source": [
    "plt.figure(figsize = (7,8))\n",
    "\n",
    "# plotting the boxplots for all 4 columns\n",
    "labels = ['NO2 AQI', 'O3 AQI', 'SO2 AQI', 'CO AQI']\n",
    "medianprops = dict(color='#947835', linewidth=2)    # modifying median characteristics\n",
    "flierprops = dict(markeredgecolor = '#f9c74f', markersize=1)    # modifying flier (outlier) characteristics\n",
    "boxprops = dict(facecolor =  '#f9c74f')     # modifying inner color of each box\n",
    "boxes = plt.boxplot([df['NO2 AQI'], df['O3 AQI'], df['SO2 AQI'], df['CO AQI']], tick_labels=labels, patch_artist=True, boxprops=boxprops, medianprops = medianprops, flierprops = flierprops)\n",
    "\n",
    "# changing the title\n",
    "plt.title('Major Pollutant AQI Comparison', fontdict={'fontsize':17})\n",
    "\n",
    "# changing the y-label\n",
    "plt.ylabel('Air Quality Index (AQI)', fontdict={'fontsize':13})\n",
    "\n",
    "# making the step size of the y-ticks 50\n",
    "plt.yticks(np.arange(0, 251, step = 50))\n",
    "\n",
    "# customizing the inner color of the box plots\n",
    "# for box in boxes['boxes']:\n",
    "#     box.set(facecolor = '#C9E9DF')\n",
    "\n",
    "plt.show()"
   ]
  },
  {
   "cell_type": "markdown",
   "metadata": {},
   "source": [
    "__Conclusion__"
   ]
  },
  {
   "cell_type": "markdown",
   "metadata": {},
   "source": [
    "As seen by from this box plot graph, all four of the major pollutants' AQI medians are under 50, which falls into the \"good\" category for air quality. The medians of the NO2 and O3 AQI box plots are higher than the boxes of SO2 and CO AQI. Furthermore, the SO2 and CO AQI box plots have smaller ranges than the NO2 and O3 AQI box plots, indicating that the data for SO2 and CO AQI are less dispersed. \n",
    "\n",
    "We can also see that all four of the pollutants' AQI many outliers, including extreme outliers. The largest outlier of NO2 AQI is much closer to the median compared to the largest outlier of any of the other three pollutants.\n",
    "\n",
    "Lastly, all four of the box plots indicate that the NO2, O3, SO2, and CO AQI data are positively skewed. To confirm this, I will use the skew() method on each of the major pollutant AQIs."
   ]
  },
  {
   "cell_type": "code",
   "execution_count": 84,
   "metadata": {},
   "outputs": [
    {
     "data": {
      "text/plain": [
       "np.float64(0.8876834509874199)"
      ]
     },
     "execution_count": 84,
     "metadata": {},
     "output_type": "execute_result"
    }
   ],
   "source": [
    "df['NO2 AQI'].skew()"
   ]
  },
  {
   "cell_type": "code",
   "execution_count": 85,
   "metadata": {},
   "outputs": [
    {
     "data": {
      "text/plain": [
       "np.float64(2.439107077521321)"
      ]
     },
     "execution_count": 85,
     "metadata": {},
     "output_type": "execute_result"
    }
   ],
   "source": [
    "df['O3 AQI'].skew()"
   ]
  },
  {
   "cell_type": "code",
   "execution_count": 86,
   "metadata": {},
   "outputs": [
    {
     "data": {
      "text/plain": [
       "np.float64(3.8946971468705303)"
      ]
     },
     "execution_count": 86,
     "metadata": {},
     "output_type": "execute_result"
    }
   ],
   "source": [
    "df['SO2 AQI'].skew()"
   ]
  },
  {
   "cell_type": "code",
   "execution_count": 87,
   "metadata": {},
   "outputs": [
    {
     "data": {
      "text/plain": [
       "np.float64(3.67256847818267)"
      ]
     },
     "execution_count": 87,
     "metadata": {},
     "output_type": "execute_result"
    }
   ],
   "source": [
    "df['CO AQI'].skew()"
   ]
  },
  {
   "cell_type": "markdown",
   "metadata": {},
   "source": [
    "__Interpretation__"
   ]
  },
  {
   "cell_type": "markdown",
   "metadata": {},
   "source": [
    "I can see here that because all four of the skewness values are greater than 0.5, they are positively skewed. The skewnewss of the NO2 AQI variable is between 0.5 and 1, making it moderately positively skewed. Meanwhile, the skewness of the `O3 AQI`, `SO2 AQI`, and `CO AQI` variables are all greater than 1. Therefore, we can conclude that the data for those three pollutants are highly positively skewed."
   ]
  },
  {
   "cell_type": "markdown",
   "metadata": {},
   "source": [
    "I will continue by plotting a histogram for each of the pollutant AQI variables to verify this. "
   ]
  },
  {
   "cell_type": "code",
   "execution_count": 234,
   "metadata": {},
   "outputs": [
    {
     "data": {
      "image/png": "[encoded data removed]",
      "text/plain": [
       "<Figure size 500x600 with 1 Axes>"
      ]
     },
     "metadata": {},
     "output_type": "display_data"
    }
   ],
   "source": [
    "plt.figure(figsize = (5,6))\n",
    "\n",
    "bins = np.arange(0, 301, 50)\n",
    "n, bins, patches = plt.hist(df['NO2 AQI'], bins=bins)\n",
    "plt.title('Distribution of Nitrogen Dioxide (NO2) AQI')\n",
    "plt.xlabel('Air Quality Index', fontdict={'fontsize':10})\n",
    "plt.ylabel('Number of Occurences', fontdict={'fontsize':10})\n",
    "plt.yticks(np.arange(0,450001, 50000))\n",
    "\n",
    "patches[0].set_facecolor('#90be6d')\n",
    "patches[1].set_facecolor('#f9c74f')\n",
    "patches[2].set_facecolor('#f8961e')\n",
    "patches[3].set_facecolor('#f94144')\n"
   ]
  },
  {
   "cell_type": "code",
   "execution_count": 235,
   "metadata": {},
   "outputs": [
    {
     "data": {
      "image/png": "[encoded data removed]",
      "text/plain": [
       "<Figure size 500x600 with 1 Axes>"
      ]
     },
     "metadata": {},
     "output_type": "display_data"
    }
   ],
   "source": [
    "plt.figure(figsize = (5,6))\n",
    "\n",
    "bins = np.arange(0, 301, 50)\n",
    "n, bins, patches = plt.hist(df['O3 AQI'], bins=bins)\n",
    "plt.title('Distribution of Ozone (O3) AQI')\n",
    "plt.xlabel('Air Quality Index', fontdict={'fontsize':10})\n",
    "plt.ylabel('Number of Occurences', fontdict={'fontsize':10})\n",
    "plt.yticks(np.arange(0,450001, 50000))\n",
    "\n",
    "patches[0].set_facecolor('#90be6d')\n",
    "patches[1].set_facecolor('#f9c74f')\n",
    "patches[2].set_facecolor('#f8961e')\n",
    "patches[3].set_facecolor('#f94144')"
   ]
  },
  {
   "cell_type": "code",
   "execution_count": 237,
   "metadata": {},
   "outputs": [
    {
     "data": {
      "image/png": "[encoded data removed]",
      "text/plain": [
       "<Figure size 500x600 with 1 Axes>"
      ]
     },
     "metadata": {},
     "output_type": "display_data"
    }
   ],
   "source": [
    "plt.figure(figsize = (5,6))\n",
    "\n",
    "bins = np.arange(0, 301, 50)\n",
    "n, bins, patches = plt.hist(df['SO2 AQI'], bins=bins)\n",
    "plt.title('Distribution of Sulfure Dioxide (SO2) AQI')\n",
    "plt.xlabel('Air Quality Index', fontdict={'fontsize':10})\n",
    "plt.ylabel('Number of Occurences', fontdict={'fontsize':10})\n",
    "plt.yticks(np.arange(0,450001, 50000))\n",
    "\n",
    "patches[0].set_facecolor('#90be6d')\n",
    "patches[1].set_facecolor('#f9c74f')\n",
    "patches[2].set_facecolor('#f8961e')\n",
    "patches[3].set_facecolor('#f94144')\n"
   ]
  },
  {
   "cell_type": "code",
   "execution_count": 236,
   "metadata": {},
   "outputs": [
    {
     "data": {
      "image/png": "[encoded data removed]",
      "text/plain": [
       "<Figure size 500x600 with 1 Axes>"
      ]
     },
     "metadata": {},
     "output_type": "display_data"
    }
   ],
   "source": [
    "plt.figure(figsize = (5,6))\n",
    "\n",
    "bins = np.arange(0, 301, 50)\n",
    "n, bins, patches = plt.hist(df['CO AQI'], bins=bins)\n",
    "plt.title('Distribution of Carbon Monoxide (CO) AQI')\n",
    "plt.xlabel('Air Quality Index', fontdict={'fontsize':10})\n",
    "plt.ylabel('Number of Occurences', fontdict={'fontsize':10})\n",
    "plt.yticks(np.arange(0,450001, 50000))\n",
    "\n",
    "patches[0].set_facecolor('#90be6d')\n",
    "patches[1].set_facecolor('#f9c74f')\n",
    "patches[2].set_facecolor('#f8961e')\n",
    "patches[3].set_facecolor('#f94144')"
   ]
  },
  {
   "cell_type": "markdown",
   "metadata": {},
   "source": [
    "__Conclusion__"
   ]
  },
  {
   "cell_type": "markdown",
   "metadata": {},
   "source": [
    "Based on the four above histograms, I can confirm that all four of the pollutant AQI data are positively skewed and that the `O3 AQI` data has the greatest number of extreme outliers."
   ]
  },
  {
   "cell_type": "markdown",
   "metadata": {},
   "source": [
    "## 6. Multivariate analysis"
   ]
  },
  {
   "cell_type": "markdown",
   "metadata": {},
   "source": [
    "### Examine relationship between AQI variables and State attribute"
   ]
  },
  {
   "cell_type": "markdown",
   "metadata": {},
   "source": [
    "In this section, I will explore the relationship between each of the NO2, O3, SO2, and CO AQI variables and the `State` attribute."
   ]
  },
  {
   "cell_type": "markdown",
   "metadata": {},
   "source": [
    "### Visualization of AQI variables and State atrribute"
   ]
  },
  {
   "cell_type": "markdown",
   "metadata": {},
   "source": [
    "For each of the pollutant AQI variables, I will determine the mean AQI for each category (state) in the `State` column. First, I will need to create a dataframe containing only the columns `NO2 AQI` and `State`."
   ]
  },
  {
   "cell_type": "code",
   "execution_count": 137,
   "metadata": {},
   "outputs": [
    {
     "data": {
      "text/html": [
       "<div>\n",
       "<style scoped>\n",
       "    .dataframe tbody tr th:only-of-type {\n",
       "        vertical-align: middle;\n",
       "    }\n",
       "\n",
       "    .dataframe tbody tr th {\n",
       "        vertical-align: top;\n",
       "    }\n",
       "\n",
       "    .dataframe thead th {\n",
       "        text-align: right;\n",
       "    }\n",
       "</style>\n",
       "<table border=\"1\" class=\"dataframe\">\n",
       "  <thead>\n",
       "    <tr style=\"text-align: right;\">\n",
       "      <th></th>\n",
       "      <th>NO2 AQI</th>\n",
       "      <th>State</th>\n",
       "    </tr>\n",
       "  </thead>\n",
       "  <tbody>\n",
       "    <tr>\n",
       "      <th>1</th>\n",
       "      <td>46</td>\n",
       "      <td>Arizona</td>\n",
       "    </tr>\n",
       "    <tr>\n",
       "      <th>5</th>\n",
       "      <td>34</td>\n",
       "      <td>Arizona</td>\n",
       "    </tr>\n",
       "    <tr>\n",
       "      <th>9</th>\n",
       "      <td>48</td>\n",
       "      <td>Arizona</td>\n",
       "    </tr>\n",
       "    <tr>\n",
       "      <th>13</th>\n",
       "      <td>72</td>\n",
       "      <td>Arizona</td>\n",
       "    </tr>\n",
       "    <tr>\n",
       "      <th>17</th>\n",
       "      <td>58</td>\n",
       "      <td>Arizona</td>\n",
       "    </tr>\n",
       "  </tbody>\n",
       "</table>\n",
       "</div>"
      ],
      "text/plain": [
       "    NO2 AQI    State\n",
       "1        46  Arizona\n",
       "5        34  Arizona\n",
       "9        48  Arizona\n",
       "13       72  Arizona\n",
       "17       58  Arizona"
      ]
     },
     "execution_count": 137,
     "metadata": {},
     "output_type": "execute_result"
    }
   ],
   "source": [
    "no2 = df.loc[:,['NO2 AQI', 'State']]\n",
    "no2.head()"
   ]
  },
  {
   "cell_type": "markdown",
   "metadata": {},
   "source": [
    "To find the mean AQI of each state, I can use the __groupby())__ and __mean()__ methods on my `no2` dataframe. I will sort the results from greatest to least using __sort_values()__."
   ]
  },
  {
   "cell_type": "code",
   "execution_count": 160,
   "metadata": {},
   "outputs": [
    {
     "data": {
      "text/html": [
       "<div>\n",
       "<style scoped>\n",
       "    .dataframe tbody tr th:only-of-type {\n",
       "        vertical-align: middle;\n",
       "    }\n",
       "\n",
       "    .dataframe tbody tr th {\n",
       "        vertical-align: top;\n",
       "    }\n",
       "\n",
       "    .dataframe thead th {\n",
       "        text-align: right;\n",
       "    }\n",
       "</style>\n",
       "<table border=\"1\" class=\"dataframe\">\n",
       "  <thead>\n",
       "    <tr style=\"text-align: right;\">\n",
       "      <th></th>\n",
       "      <th>State</th>\n",
       "      <th>NO2 AQI</th>\n",
       "    </tr>\n",
       "  </thead>\n",
       "  <tbody>\n",
       "    <tr>\n",
       "      <th>0</th>\n",
       "      <td>Country Of Mexico</td>\n",
       "      <td>37.933277</td>\n",
       "    </tr>\n",
       "    <tr>\n",
       "      <th>1</th>\n",
       "      <td>Arizona</td>\n",
       "      <td>36.106818</td>\n",
       "    </tr>\n",
       "    <tr>\n",
       "      <th>2</th>\n",
       "      <td>Colorado</td>\n",
       "      <td>35.961709</td>\n",
       "    </tr>\n",
       "    <tr>\n",
       "      <th>3</th>\n",
       "      <td>Michigan</td>\n",
       "      <td>31.851490</td>\n",
       "    </tr>\n",
       "    <tr>\n",
       "      <th>4</th>\n",
       "      <td>New Jersey</td>\n",
       "      <td>31.677091</td>\n",
       "    </tr>\n",
       "    <tr>\n",
       "      <th>5</th>\n",
       "      <td>District Of Columbia</td>\n",
       "      <td>30.597885</td>\n",
       "    </tr>\n",
       "    <tr>\n",
       "      <th>6</th>\n",
       "      <td>New York</td>\n",
       "      <td>30.581480</td>\n",
       "    </tr>\n",
       "    <tr>\n",
       "      <th>7</th>\n",
       "      <td>Massachusetts</td>\n",
       "      <td>29.778458</td>\n",
       "    </tr>\n",
       "    <tr>\n",
       "      <th>8</th>\n",
       "      <td>Missouri</td>\n",
       "      <td>29.166363</td>\n",
       "    </tr>\n",
       "    <tr>\n",
       "      <th>9</th>\n",
       "      <td>Illinois</td>\n",
       "      <td>28.378829</td>\n",
       "    </tr>\n",
       "  </tbody>\n",
       "</table>\n",
       "</div>"
      ],
      "text/plain": [
       "                  State    NO2 AQI\n",
       "0     Country Of Mexico  37.933277\n",
       "1               Arizona  36.106818\n",
       "2              Colorado  35.961709\n",
       "3              Michigan  31.851490\n",
       "4            New Jersey  31.677091\n",
       "5  District Of Columbia  30.597885\n",
       "6              New York  30.581480\n",
       "7         Massachusetts  29.778458\n",
       "8              Missouri  29.166363\n",
       "9              Illinois  28.378829"
      ]
     },
     "execution_count": 160,
     "metadata": {},
     "output_type": "execute_result"
    }
   ],
   "source": [
    "no2_mean = no2.groupby('State').mean().sort_values('NO2 AQI', ascending=False)  # this will return a df, but 'State' will be the index\n",
    "no2_mean = no2_mean.reset_index()       # used to reset the index and make 'State' a column\n",
    "no2_mean.head(10)"
   ]
  },
  {
   "cell_type": "markdown",
   "metadata": {},
   "source": [
    "I want to plot the top 10 states with the greatest number of AQI values larger than 51. To do this, I will create a bar chart."
   ]
  },
  {
   "cell_type": "code",
   "execution_count": 257,
   "metadata": {},
   "outputs": [
    {
     "data": {
      "image/png": "[encoded data removed]",
      "text/plain": [
       "<Figure size 1500x400 with 1 Axes>"
      ]
     },
     "metadata": {},
     "output_type": "display_data"
    }
   ],
   "source": [
    "plt.figure(figsize= (15,4))\n",
    "\n",
    "# method to add the number values at the top center of each bar\n",
    "def addValues(labels,values):\n",
    "    for i in range(len(labels)):\n",
    "        plt.text(i, values[i], f'{values[i]: .2f}', ha = 'center')  \n",
    "    # text(x location, y location, string, horizontal alignment)\n",
    "\n",
    "# Setting the labels and values for the graph as the first 10 rows\n",
    "labels = no2_mean.loc[0:9, 'State']\n",
    "values = no2_mean.loc[0:9, 'NO2 AQI']\n",
    "color = ['#f94144', '#f3722c', '#f9844a', '#f8961e', '#f9c74f', '#90be6d', '#43aa8b', '#4d908e', '#577590', '#277da1']\n",
    "\n",
    "# Creating the bar graph\n",
    "plt.bar(labels, values, width = 0.5, color = color)\n",
    "plt.title('Top 10 States with Greatest Mean Value of Nitrogen Dioxide (NO2) AQI')\n",
    "plt.ylabel('Mean Value of NO2 AQI', fontdict={'fontsize':11})\n",
    "plt.yticks(np.arange(0,41,5))\n",
    "plt.xticks(fontsize=10, rotation=20)  # change font size of the x labels\n",
    "\n",
    "addValues(labels, values)\n",
    "\n",
    "\n",
    "plt.show()"
   ]
  },
  {
   "cell_type": "markdown",
   "metadata": {},
   "source": [
    "As demonstrated by the graph above, "
   ]
  },
  {
   "cell_type": "markdown",
   "metadata": {},
   "source": [
    "I now want to determine how many AQI values greater than 51 each state has, since an AQI of 51 or greater is considered to be 'moderate level of concern' or worse."
   ]
  },
  {
   "cell_type": "code",
   "execution_count": 251,
   "metadata": {},
   "outputs": [
    {
     "data": {
      "text/html": [
       "<div>\n",
       "<style scoped>\n",
       "    .dataframe tbody tr th:only-of-type {\n",
       "        vertical-align: middle;\n",
       "    }\n",
       "\n",
       "    .dataframe tbody tr th {\n",
       "        vertical-align: top;\n",
       "    }\n",
       "\n",
       "    .dataframe thead th {\n",
       "        text-align: right;\n",
       "    }\n",
       "</style>\n",
       "<table border=\"1\" class=\"dataframe\">\n",
       "  <thead>\n",
       "    <tr style=\"text-align: right;\">\n",
       "      <th></th>\n",
       "      <th>State</th>\n",
       "      <th>count</th>\n",
       "    </tr>\n",
       "  </thead>\n",
       "  <tbody>\n",
       "    <tr>\n",
       "      <th>0</th>\n",
       "      <td>California</td>\n",
       "      <td>9597</td>\n",
       "    </tr>\n",
       "    <tr>\n",
       "      <th>1</th>\n",
       "      <td>Arizona</td>\n",
       "      <td>2322</td>\n",
       "    </tr>\n",
       "    <tr>\n",
       "      <th>2</th>\n",
       "      <td>New York</td>\n",
       "      <td>1442</td>\n",
       "    </tr>\n",
       "    <tr>\n",
       "      <th>3</th>\n",
       "      <td>Colorado</td>\n",
       "      <td>1324</td>\n",
       "    </tr>\n",
       "    <tr>\n",
       "      <th>4</th>\n",
       "      <td>Texas</td>\n",
       "      <td>1058</td>\n",
       "    </tr>\n",
       "    <tr>\n",
       "      <th>5</th>\n",
       "      <td>Pennsylvania</td>\n",
       "      <td>925</td>\n",
       "    </tr>\n",
       "    <tr>\n",
       "      <th>6</th>\n",
       "      <td>Illinois</td>\n",
       "      <td>774</td>\n",
       "    </tr>\n",
       "    <tr>\n",
       "      <th>7</th>\n",
       "      <td>New Jersey</td>\n",
       "      <td>529</td>\n",
       "    </tr>\n",
       "    <tr>\n",
       "      <th>8</th>\n",
       "      <td>Country Of Mexico</td>\n",
       "      <td>514</td>\n",
       "    </tr>\n",
       "    <tr>\n",
       "      <th>9</th>\n",
       "      <td>District Of Columbia</td>\n",
       "      <td>360</td>\n",
       "    </tr>\n",
       "  </tbody>\n",
       "</table>\n",
       "</div>"
      ],
      "text/plain": [
       "                  State  count\n",
       "0            California   9597\n",
       "1               Arizona   2322\n",
       "2              New York   1442\n",
       "3              Colorado   1324\n",
       "4                 Texas   1058\n",
       "5          Pennsylvania    925\n",
       "6              Illinois    774\n",
       "7            New Jersey    529\n",
       "8     Country Of Mexico    514\n",
       "9  District Of Columbia    360"
      ]
     },
     "execution_count": 251,
     "metadata": {},
     "output_type": "execute_result"
    }
   ],
   "source": [
    "no2_greater_51 = pd.DataFrame(no2[no2['NO2 AQI'] > 50]['State'].value_counts())\n",
    "no2_greater_51 = no2_greater_51.reset_index()\n",
    "no2_greater_51.head(10)"
   ]
  },
  {
   "cell_type": "code",
   "execution_count": null,
   "metadata": {},
   "outputs": [],
   "source": []
  }
 ],
 "metadata": {
  "kernelspec": {
   "display_name": "Python 3",
   "language": "python",
   "name": "python3"
  },
  "language_info": {
   "codemirror_mode": {
    "name": "ipython",
    "version": 3
   },
   "file_extension": ".py",
   "mimetype": "text/x-python",
   "name": "python",
   "nbconvert_exporter": "python",
   "pygments_lexer": "ipython3",
   "version": "3.9.6"
  }
 },
 "nbformat": 4,
 "nbformat_minor": 2
}
